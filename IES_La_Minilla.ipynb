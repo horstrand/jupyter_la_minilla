{
  "cells": [
    {
      "cell_type": "code",
      "execution_count": 15,
      "metadata": {
        "trusted": true
      },
      "outputs": [],
      "source": [
        "import numpy as np\n",
        "\n",
        "# Create two numpy arrays\n",
        "lims = [-4,3]\n",
        "coeffs = [3, 8, -36, -8]\n",
        "x = np.linspace(lims[0],lims[1],1000)\n",
        "y = coeffs[0]*x**3 + coeffs[1]*x**2 + coeffs[2]*x + coeffs[3]"
      ]
    },
    {
      "cell_type": "code",
      "execution_count": 16,
      "metadata": {
        "trusted": true
      },
      "outputs": [],
      "source": [
        "from matplotlib import pyplot as plt\n",
        "\n",
        "#plt.plot(x,y)\n",
        "#plt.grid()\n",
        "#plt.show()"
      ]
    },
    {
      "cell_type": "code",
      "execution_count": 17,
      "metadata": {
        "trusted": true
      },
      "outputs": [],
      "source": [
        "# TODO: Calculate the maximum value of vector y, its index, and the corresponding x value\n",
        "ymax = 0\n",
        "idx_ymax = -1\n",
        "\n",
        "#print(f'ymax={ymax}, x_ymax={x[idx_ymax]}')"
      ]
    },
    {
      "cell_type": "code",
      "execution_count": 18,
      "metadata": {
        "trusted": true
      },
      "outputs": [],
      "source": [
        "#plt.plot(x,y)\n",
        "#plt.grid()\n",
        "#plt.plot([x[idx_ymax],x[idx_ymax]],[0,ymax], '--r')\n",
        "#plt.plot(x[idx_ymax],ymax,'o')"
      ]
    },
    {
      "cell_type": "code",
      "execution_count": 19,
      "metadata": {},
      "outputs": [],
      "source": [
        "# Finding the max and argmax using Numpy\n",
        "idx2_ymax = np.argmax(y)\n",
        "\n",
        "#print(f'ymax={y[idx2_ymax]}, x_ymax={x[idx2_ymax]}')\n",
        "#print(f'Comparing the calculated indices:\\n idx_ymax={idx_ymax}, idx2_ymax={idx2_ymax}')"
      ]
    },
    {
      "cell_type": "code",
      "execution_count": 21,
      "metadata": {},
      "outputs": [],
      "source": [
        "# TODO: Calculate polinomial roots\n",
        "lims = [-6,6]\n",
        "coeffs = [3, 8, -36, -8]\n",
        "x = np.linspace(lims[0],lims[1],20000)\n",
        "y = coeffs[0]*x**3 + coeffs[1]*x**2 + coeffs[2]*x + coeffs[3]\n",
        "\n",
        "roots = []\n",
        "\n",
        "#print(f'The polinomial roots are: {roots}')"
      ]
    },
    {
      "cell_type": "code",
      "execution_count": 23,
      "metadata": {
        "trusted": true
      },
      "outputs": [
        {
          "name": "stdout",
          "output_type": "stream",
          "text": [
            "The polinomial roots are: [-4.97221561  2.51849865 -0.21294971]\n"
          ]
        }
      ],
      "source": [
        "# Finding the roots using a numpy function\n",
        "roots2 = np.roots(coeffs)\n",
        "print(f'The polinomial roots are: {roots2}')\n",
        "#print(f'Comparing the roots:\\n roots1={roots}, roots2={roots2}')"
      ]
    },
    {
      "cell_type": "code",
      "execution_count": 25,
      "metadata": {
        "trusted": true
      },
      "outputs": [],
      "source": [
        "#plt.plot(x,y)\n",
        "#plt.grid()\n",
        "#plt.plot(roots,np.zeros(len(roots)),'o')"
      ]
    },
    {
      "cell_type": "code",
      "execution_count": null,
      "metadata": {
        "trusted": true
      },
      "outputs": [],
      "source": []
    }
  ],
  "metadata": {
    "kernelspec": {
      "display_name": "Python 3.8.0 64-bit ('venv')",
      "name": "python380jvsc74a57bd06e4532745a78ef2436dbed660d4b584d3a6076668006a93a575ec75d1cf8f4c6"
    },
    "language_info": {
      "codemirror_mode": {
        "name": "ipython",
        "version": 3
      },
      "file_extension": ".py",
      "mimetype": "text/x-python",
      "name": "python",
      "nbconvert_exporter": "python",
      "pygments_lexer": "ipython3",
      "version": "3.8.0"
    },
    "metadata": {
      "interpreter": {
        "hash": "6e4532745a78ef2436dbed660d4b584d3a6076668006a93a575ec75d1cf8f4c6"
      }
    },
    "orig_nbformat": 3
  },
  "nbformat": 4,
  "nbformat_minor": 4
}